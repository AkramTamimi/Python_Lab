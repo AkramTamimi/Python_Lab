{
 "cells": [
  {
   "cell_type": "code",
   "execution_count": 1,
   "id": "6ef47fcd",
   "metadata": {},
   "outputs": [
    {
     "name": "stdout",
     "output_type": "stream",
     "text": [
      "Gandalf wins\n"
     ]
    }
   ],
   "source": [
    "gandalf = [10, 11, 13, 30, 22, 11, 10, 33, 22, 22]\n",
    "saruman = [23, 66, 12, 43, 12, 10, 44, 23, 12, 17]\n",
    "gandalf_wins = 0\n",
    "saruman_wins = 0\n",
    "spells=0\n",
    "for i in gandalf:\n",
    "    if gandalf[spells]>saruman[spells]:\n",
    "        gandalf_wins+=1\n",
    "    elif gandalf[spells]<saruman[spells]:\n",
    "        saruman_wins+=1\n",
    "    spells+=1\n",
    "    \n",
    "if gandalf_wins>saruman_wins:\n",
    "    print(\"Gandalf wins\")\n",
    "elif gandalf_wins<saruman_wins:\n",
    "    print(\"Saruman wins\")\n",
    "else:\n",
    "    print(\"Tie\")"
   ]
  },
  {
   "cell_type": "code",
   "execution_count": 2,
   "id": "2a359046",
   "metadata": {},
   "outputs": [
    {
     "name": "stdout",
     "output_type": "stream",
     "text": [
      "Gandalf win\n",
      "Average Gandalf power: 39.0\n",
      "Average saruman power: 30.5\n",
      "Standar deviation of Gandalf power 15.95\n",
      "Standar deviation of Saruman power 16 2\n"
     ]
    }
   ],
   "source": [
    "POWER = {\n",
    "    'Fireball': 50, \n",
    "    'Lightning bolt': 40, \n",
    "    'Magic arrow': 10, \n",
    "    'Black Tentacles': 25, \n",
    "    'Contagion': 45\n",
    "}\n",
    "\n",
    "gandalf = ['Fireball', 'Lightning bolt', 'Lightning bolt', 'Magic arrow', 'Fireball','Magic arrow', 'Lightning bolt', 'Fireball', 'Fireball', 'Fireball']\n",
    "saruman = ['Contagion', 'Contagion', 'Black Tentacles', 'Fireball', 'Black Tentacles', 'Lightning bolt', 'Magic arrow', 'Contagion', 'Magic arrow', 'Magic arrow']\n",
    "spells = 0\n",
    "gandalf_wins = 0\n",
    "saruman_wins = 0\n",
    "gandalf_power=[]\n",
    "saruman_power=[]\n",
    "gandal=0\n",
    "saruma=0\n",
    "for i in gandalf:\n",
    "    gandalf_power.append(POWER[i])\n",
    "for i in saruman:\n",
    "    saruman_power.append(POWER[i])\n",
    "for i in gandalf_power:\n",
    "    if gandalf_wins==3:\n",
    "        print(\"Gandalf win\")\n",
    "        break\n",
    "    elif saruman_wins==3:\n",
    "        print(\"Saruman win\")\n",
    "        break\n",
    "    elif gandalf_power[spells]>saruman_power[spells]:\n",
    "        gandalf_wins+=1\n",
    "        saruman_wins=0\n",
    "    elif gandalf_power[spells]<saruman_power[spells]:\n",
    "        saruman_wins+=1\n",
    "        gandlaf_wins=0\n",
    "    spells+=1\n",
    "for i in gandalf_power:\n",
    "    gandal+=i\n",
    "for i in saruman_power:\n",
    "    saruma+=i\n",
    "avg_gandalf = round(gandal/len(gandalf_power),2)\n",
    "avg_saruman = round(saruma/len(saruman_power),2)\n",
    "import statistics\n",
    "stand_gandalf = statistics.stdev(gandalf_power)\n",
    "stand_saruman = statistics.stdev(saruman_power)\n",
    "print('Average Gandalf power:',avg_gandalf)\n",
    "print('Average saruman power:',avg_saruman)\n",
    "print('Standar deviation of Gandalf power', round(stand_gandalf,2))\n",
    "print('Standar deviation of Saruman power', round(stand_saruman),2)"
   ]
  },
  {
   "cell_type": "code",
   "execution_count": null,
   "id": "37dd1c76",
   "metadata": {},
   "outputs": [],
   "source": []
  }
 ],
 "metadata": {
  "kernelspec": {
   "display_name": "Python 3",
   "language": "python",
   "name": "python3"
  },
  "language_info": {
   "codemirror_mode": {
    "name": "ipython",
    "version": 3
   },
   "file_extension": ".py",
   "mimetype": "text/x-python",
   "name": "python",
   "nbconvert_exporter": "python",
   "pygments_lexer": "ipython3",
   "version": "3.8.8"
  }
 },
 "nbformat": 4,
 "nbformat_minor": 5
}
