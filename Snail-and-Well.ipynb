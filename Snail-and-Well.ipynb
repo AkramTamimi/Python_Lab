{
 "cells": [
  {
   "cell_type": "code",
   "execution_count": 1,
   "id": "52d39172",
   "metadata": {},
   "outputs": [
    {
     "name": "stdout",
     "output_type": "stream",
     "text": [
      "Total days:  13\n"
     ]
    }
   ],
   "source": [
    "well_height = 125\n",
    "daily_distance = 30\n",
    "nightly_distance = -20\n",
    "total_distance = daily_distance + nightly_distance\n",
    "snail_position = 0\n",
    "days = 0\n",
    "while snail_position < well_height:\n",
    "    snail_position+= total_distance\n",
    "    days+=1\n",
    "    \n",
    "print(\"Total days: \", days)"
   ]
  },
  {
   "cell_type": "code",
   "execution_count": null,
   "id": "be78fa70",
   "metadata": {},
   "outputs": [],
   "source": []
  }
 ],
 "metadata": {
  "kernelspec": {
   "display_name": "Python 3",
   "language": "python",
   "name": "python3"
  },
  "language_info": {
   "codemirror_mode": {
    "name": "ipython",
    "version": 3
   },
   "file_extension": ".py",
   "mimetype": "text/x-python",
   "name": "python",
   "nbconvert_exporter": "python",
   "pygments_lexer": "ipython3",
   "version": "3.8.8"
  }
 },
 "nbformat": 4,
 "nbformat_minor": 5
}
