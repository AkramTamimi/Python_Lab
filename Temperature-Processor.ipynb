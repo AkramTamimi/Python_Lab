{
 "cells": [
  {
   "cell_type": "code",
   "execution_count": 1,
   "id": "68dc6af6",
   "metadata": {},
   "outputs": [
    {
     "name": "stdout",
     "output_type": "stream",
     "text": [
      "The cooling system needs to be replaced\n"
     ]
    }
   ],
   "source": [
    "temperatures_C = [33, 66, 65, 0, 59, 60, 62, 64, 70, 76, 80, 81, 80, 83, 90, 79, 61, 53, 50, 49, 53, 48, 45, 39]\n",
    "Min = min(temperatures_C)\n",
    "Max = max(temperatures_C)\n",
    "list_70 = []\n",
    "total=0\n",
    "temperatures_F = []\n",
    "for i in temperatures_C:\n",
    "    if i>=70:\n",
    "        list_70.append(i)\n",
    "for i in temperatures_C:\n",
    "    total+=i\n",
    "avg = round(total/len(temperatures_C),2)\n",
    "change_avg = int(((temperatures_C[2]-temperatures_C[0])/3 + (temperatures_C[4]-temperatures_C[23])/20 )/2 )\n",
    "temperatures_C[3] = temperatures_C[2] - change_avg\n",
    "for i in temperatures_C:\n",
    "    F = int(1.8 * i + 32)\n",
    "    temperatures_F.append(F)\n",
    "\n",
    "if len(list_70) > 4:\n",
    "    print(\"The cooling system needs to be replaced\")\n",
    "elif temperatures_C: \n",
    "    for i in temperatures_C:\n",
    "        if i > 80:\n",
    "            print(\"The cooling system needs to be replaced\")\n",
    "            break\n",
    "elif avg > 65:\n",
    "    print(\"The cooling system needs to be replaced\")\n",
    "else:\n",
    "    print(\"The cooling systems works correctly\")"
   ]
  },
  {
   "cell_type": "code",
   "execution_count": 2,
   "id": "05f106eb",
   "metadata": {},
   "outputs": [
    {
     "name": "stdout",
     "output_type": "stream",
     "text": [
      "The cooling system needs to be replaced\n",
      "The relation between both average values is 0.43\n",
      "The relation between both standard deviations is 0.56\n"
     ]
    }
   ],
   "source": [
    "temperatures_C = [33, 66, 65, 0, 59, 60, 62, 64, 70, 76, 80, 81, 80, 83, 90, 79, 61, 53, 50, 49, 53, 48, 45, 39]\n",
    "temperatures_F=[]\n",
    "hours = 0\n",
    "total_C = 0\n",
    "total_F = 0\n",
    "list_70 = []\n",
    "for i in temperatures_C:\n",
    "    total_C+=i\n",
    "    if i >= 70:\n",
    "        hours+=1\n",
    "        list_70.append(i)\n",
    "if hours>4:\n",
    "    print(\"The cooling system needs to be replaced\")\n",
    "elif temperatures_C:\n",
    "    for i in temperatures_C:\n",
    "        if i > 80:\n",
    "            print(\"The cooling system needs to be replaced\")\n",
    "            break\n",
    "elif avg > 65:\n",
    "    print(\"The cooling system needs to be replaced\")\n",
    "else:\n",
    "    print(\"The cooling systems works correctly\")\n",
    "for i in temperatures_C:\n",
    "    F = int(1.8 * i + 32)\n",
    "    total_F+=F\n",
    "    temperatures_F.append(F)\n",
    "avg_C = round(total_C/len(temperatures_C),2)\n",
    "avg_F = round(total_F/len(temperatures_F),2)\n",
    "print(\"The relation between both average values is\",round(avg_C/avg_F,2))\n",
    "import statistics\n",
    "stand_C = statistics.stdev(temperatures_C)\n",
    "stand_F = statistics.stdev(temperatures_F)\n",
    "print(\"The relation between both standard deviations is\",round(stand_C/stand_F,2))"
   ]
  },
  {
   "cell_type": "code",
   "execution_count": null,
   "id": "3bb1ec14",
   "metadata": {},
   "outputs": [],
   "source": []
  }
 ],
 "metadata": {
  "kernelspec": {
   "display_name": "Python 3",
   "language": "python",
   "name": "python3"
  },
  "language_info": {
   "codemirror_mode": {
    "name": "ipython",
    "version": 3
   },
   "file_extension": ".py",
   "mimetype": "text/x-python",
   "name": "python",
   "nbconvert_exporter": "python",
   "pygments_lexer": "ipython3",
   "version": "3.8.8"
  }
 },
 "nbformat": 4,
 "nbformat_minor": 5
}
