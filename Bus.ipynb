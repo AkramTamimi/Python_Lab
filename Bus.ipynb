{
 "cells": [
  {
   "cell_type": "code",
   "execution_count": 1,
   "id": "117b7482",
   "metadata": {},
   "outputs": [
    {
     "name": "stdout",
     "output_type": "stream",
     "text": [
      "Maximum occupation of the bus: 14\n",
      "Average occupation: 9.33\n",
      "Standar deviation: 3.39\n"
     ]
    }
   ],
   "source": [
    "stops = [(10, 0), (4, 1), (3, 5), (3, 4), (5, 1), (1, 5), (5, 8), (4, 6), (2, 3)]\n",
    "len(stops)\n",
    "total_passengers = []\n",
    "number = 0\n",
    "total=0\n",
    "for i in stops:\n",
    "    list(i)\n",
    "    x = i[0]-i[1]\n",
    "    number += x\n",
    "    total_passengers.append(number)\n",
    "Max = max(total_passengers) \n",
    "print (\"Maximum occupation of the bus:\",Max)\n",
    "for j in total_passengers:\n",
    "    total += j\n",
    "avg = round(total/len(total_passengers),2)\n",
    "print(\"Average occupation:\",avg)\n",
    "import statistics\n",
    "stand = statistics.stdev(total_passengers)\n",
    "print(\"Standar deviation:\",round(stand,2))"
   ]
  },
  {
   "cell_type": "code",
   "execution_count": null,
   "id": "862c5042",
   "metadata": {},
   "outputs": [],
   "source": []
  }
 ],
 "metadata": {
  "kernelspec": {
   "display_name": "Python 3",
   "language": "python",
   "name": "python3"
  },
  "language_info": {
   "codemirror_mode": {
    "name": "ipython",
    "version": 3
   },
   "file_extension": ".py",
   "mimetype": "text/x-python",
   "name": "python",
   "nbconvert_exporter": "python",
   "pygments_lexer": "ipython3",
   "version": "3.8.8"
  }
 },
 "nbformat": 4,
 "nbformat_minor": 5
}
