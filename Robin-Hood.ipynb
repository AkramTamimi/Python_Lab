{
 "cells": [
  {
   "cell_type": "code",
   "execution_count": null,
   "id": "a4a0c5e2",
   "metadata": {},
   "outputs": [],
   "source": [
    "points = [(4, 5), (-0, 2), (4, 7), (1, -3), (3, -2), (4, 5), (3, 2), (5, 7), (-5, 7), (2, 2), (-4, 5), (0, -2),(-4, 7), (-1, 3), (-3, 2), (-4, -5), (-3, 2), (5, 7), (5, 7), (2, 2), (9, 9), (-8, -9)]\n",
    "sett=set()\n",
    "setpoints = []\n",
    "list_dis = []\n",
    "Q1=0\n",
    "Q2=0\n",
    "Q3=0\n",
    "Q4=0\n",
    "n=0\n",
    "num=0\n",
    "number=[]\n",
    "center = [(0,0)]\n",
    "j=0\n",
    "import collections\n",
    "print([item for item, count in collections.Counter(points).items() if count>1])\n",
    "for i in points:\n",
    "    n+=1\n",
    "    list(i)\n",
    "    if (i[0]>0) & (i[1]>0):\n",
    "        Q1+=1\n",
    "    elif (i[0]<0) & (i[1]>0):\n",
    "        Q2+=1\n",
    "    elif (i[0]<0) & (i[1]<0):\n",
    "        Q3+=1\n",
    "    elif (i[0]>0) & (i[1]<0):\n",
    "        Q4+=1\n",
    "import math\n",
    "for i in points:\n",
    "    list(i)\n",
    "    distance = math.sqrt(i[0]**2+i[1]**2)\n",
    "    list_dis.append(distance)\n",
    "Min = min(list_dis)\n",
    "for i in list_dis:\n",
    "    if i == Min:\n",
    "        number.append(num)\n",
    "    num+=1\n",
    "for i in number:\n",
    "    print('The nearest point is',points[i])\n",
    "for i in list_dis:\n",
    "    if i>9:\n",
    "        j+=1\n",
    "print('The number of arrows that wont hit the target are',j)"
   ]
  }
 ],
 "metadata": {
  "kernelspec": {
   "display_name": "Python 3",
   "language": "python",
   "name": "python3"
  },
  "language_info": {
   "codemirror_mode": {
    "name": "ipython",
    "version": 3
   },
   "file_extension": ".py",
   "mimetype": "text/x-python",
   "name": "python",
   "nbconvert_exporter": "python",
   "pygments_lexer": "ipython3",
   "version": "3.8.8"
  }
 },
 "nbformat": 4,
 "nbformat_minor": 5
}
